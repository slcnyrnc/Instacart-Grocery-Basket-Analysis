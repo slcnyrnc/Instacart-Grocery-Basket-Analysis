{
 "cells": [
  {
   "cell_type": "markdown",
   "id": "5cdec47f-7825-4f90-a94e-08b9b3bada13",
   "metadata": {},
   "source": [
    "# 01. Importing libraries"
   ]
  },
  {
   "cell_type": "code",
   "execution_count": 4,
   "id": "f2ca7d56-1043-4c4e-9d3f-6fb942d5a5c2",
   "metadata": {},
   "outputs": [],
   "source": [
    "# import libraries\n",
    "import pandas as pd\n",
    "import numpy as np\n",
    "import os"
   ]
  },
  {
   "cell_type": "markdown",
   "id": "c9bac917-7e23-4a0c-9162-7dbd03781931",
   "metadata": {},
   "source": [
    "# 02. Data types"
   ]
  },
  {
   "cell_type": "code",
   "execution_count": 5,
   "id": "65a43e8d-d278-4f7f-ba79-21dfc5e578a8",
   "metadata": {},
   "outputs": [],
   "source": [
    "x = 2"
   ]
  },
  {
   "cell_type": "code",
   "execution_count": 6,
   "id": "f4734022-9619-43ef-883f-fb0a8041f861",
   "metadata": {},
   "outputs": [
    {
     "data": {
      "text/plain": [
       "2"
      ]
     },
     "execution_count": 6,
     "metadata": {},
     "output_type": "execute_result"
    }
   ],
   "source": [
    "x"
   ]
  },
  {
   "cell_type": "code",
   "execution_count": 7,
   "id": "63339084-8b01-4215-a02e-6a37dc6755ac",
   "metadata": {},
   "outputs": [
    {
     "name": "stdout",
     "output_type": "stream",
     "text": [
      "2\n"
     ]
    }
   ],
   "source": [
    "print(x)"
   ]
  },
  {
   "cell_type": "code",
   "execution_count": 8,
   "id": "4ef6c9a2-60c1-4e3c-9328-fbb8ca039b76",
   "metadata": {},
   "outputs": [
    {
     "data": {
      "text/plain": [
       "int"
      ]
     },
     "execution_count": 8,
     "metadata": {},
     "output_type": "execute_result"
    }
   ],
   "source": [
    "type(x)"
   ]
  },
  {
   "cell_type": "code",
   "execution_count": 10,
   "id": "8e594b8c-52ab-47df-aa24-77b1eba35a78",
   "metadata": {},
   "outputs": [],
   "source": [
    "y=5.678"
   ]
  },
  {
   "cell_type": "code",
   "execution_count": 9,
   "id": "4ed3bcdc-15b7-4cf2-b0bc-228f8a7df8f7",
   "metadata": {},
   "outputs": [
    {
     "ename": "NameError",
     "evalue": "name 'y' is not defined",
     "output_type": "error",
     "traceback": [
      "\u001b[0;31m---------------------------------------------------------------------------\u001b[0m",
      "\u001b[0;31mNameError\u001b[0m                                 Traceback (most recent call last)",
      "Cell \u001b[0;32mIn[9], line 1\u001b[0m\n\u001b[0;32m----> 1\u001b[0m \u001b[38;5;28mtype\u001b[39m(y)\n",
      "\u001b[0;31mNameError\u001b[0m: name 'y' is not defined"
     ]
    }
   ],
   "source": [
    "type(y)"
   ]
  },
  {
   "cell_type": "code",
   "execution_count": 12,
   "id": "74850acf-de82-4cb3-a5bc-c27341e33617",
   "metadata": {},
   "outputs": [],
   "source": [
    "y=5.678"
   ]
  },
  {
   "cell_type": "code",
   "execution_count": 13,
   "id": "ff984cef-1b24-47ff-b8a6-810ad1c40d0e",
   "metadata": {},
   "outputs": [
    {
     "data": {
      "text/plain": [
       "float"
      ]
     },
     "execution_count": 13,
     "metadata": {},
     "output_type": "execute_result"
    }
   ],
   "source": [
    "type(y)"
   ]
  },
  {
   "cell_type": "code",
   "execution_count": 14,
   "id": "ac8060e3-be0f-4f40-b319-bfb5a656371a",
   "metadata": {},
   "outputs": [],
   "source": [
    "z='Brazil'"
   ]
  },
  {
   "cell_type": "code",
   "execution_count": 15,
   "id": "6842941a-ec85-47d2-9f92-ae34139c7083",
   "metadata": {},
   "outputs": [
    {
     "data": {
      "text/plain": [
       "str"
      ]
     },
     "execution_count": 15,
     "metadata": {},
     "output_type": "execute_result"
    }
   ],
   "source": [
    "type(z)"
   ]
  },
  {
   "cell_type": "code",
   "execution_count": 16,
   "id": "ab0dd0f9-87c4-43ea-a299-70c1db76fc7c",
   "metadata": {},
   "outputs": [
    {
     "data": {
      "text/plain": [
       "str"
      ]
     },
     "execution_count": 16,
     "metadata": {},
     "output_type": "execute_result"
    }
   ],
   "source": [
    "type('Mania')"
   ]
  },
  {
   "cell_type": "code",
   "execution_count": 17,
   "id": "03bbfc25-6fff-4ce0-8857-d97f95bf3a12",
   "metadata": {},
   "outputs": [
    {
     "ename": "NameError",
     "evalue": "name 'true' is not defined",
     "output_type": "error",
     "traceback": [
      "\u001b[0;31m---------------------------------------------------------------------------\u001b[0m",
      "\u001b[0;31mNameError\u001b[0m                                 Traceback (most recent call last)",
      "Cell \u001b[0;32mIn[17], line 1\u001b[0m\n\u001b[0;32m----> 1\u001b[0m \u001b[38;5;28mtype\u001b[39m(true)\n",
      "\u001b[0;31mNameError\u001b[0m: name 'true' is not defined"
     ]
    }
   ],
   "source": [
    "type(true)"
   ]
  },
  {
   "cell_type": "code",
   "execution_count": 18,
   "id": "b25f852e-ca6b-4e53-8ea1-4924ecc76fd6",
   "metadata": {},
   "outputs": [
    {
     "data": {
      "text/plain": [
       "bool"
      ]
     },
     "execution_count": 18,
     "metadata": {},
     "output_type": "execute_result"
    }
   ],
   "source": [
    "type(True)"
   ]
  },
  {
   "cell_type": "code",
   "execution_count": 19,
   "id": "a03ea996-a6db-4c60-b855-1be34dab052b",
   "metadata": {},
   "outputs": [
    {
     "name": "stdout",
     "output_type": "stream",
     "text": [
      "2\n"
     ]
    }
   ],
   "source": [
    "print(x)"
   ]
  },
  {
   "cell_type": "code",
   "execution_count": 20,
   "id": "9324cfb7-49c8-4f5b-b742-c7821fd97c33",
   "metadata": {},
   "outputs": [
    {
     "data": {
      "text/plain": [
       "6"
      ]
     },
     "execution_count": 20,
     "metadata": {},
     "output_type": "execute_result"
    }
   ],
   "source": [
    "x+4"
   ]
  },
  {
   "cell_type": "code",
   "execution_count": 21,
   "id": "161dca94-1690-4686-a2c0-b8437cedc11e",
   "metadata": {},
   "outputs": [
    {
     "data": {
      "text/plain": [
       "7.678"
      ]
     },
     "execution_count": 21,
     "metadata": {},
     "output_type": "execute_result"
    }
   ],
   "source": [
    "x+y"
   ]
  },
  {
   "cell_type": "code",
   "execution_count": 22,
   "id": "00819bb9-e82b-4ddf-9f8f-1a88fcc6a307",
   "metadata": {},
   "outputs": [],
   "source": [
    "x=x+4"
   ]
  },
  {
   "cell_type": "code",
   "execution_count": 23,
   "id": "fada4763-f8e7-4a48-8fd3-962c07f02440",
   "metadata": {},
   "outputs": [
    {
     "name": "stdout",
     "output_type": "stream",
     "text": [
      "6\n"
     ]
    }
   ],
   "source": [
    "print(x)"
   ]
  },
  {
   "cell_type": "code",
   "execution_count": 24,
   "id": "508df516-9d28-405d-bb15-8ee0fcde0ed1",
   "metadata": {},
   "outputs": [],
   "source": [
    "a='Hello,'"
   ]
  },
  {
   "cell_type": "code",
   "execution_count": 25,
   "id": "94c95f28-136e-4dc0-a9b5-19adaf7b63c1",
   "metadata": {},
   "outputs": [],
   "source": [
    "b='Marley'"
   ]
  },
  {
   "cell_type": "code",
   "execution_count": 26,
   "id": "78f35182-0796-4f74-b7ff-f70018cd82f1",
   "metadata": {},
   "outputs": [
    {
     "data": {
      "text/plain": [
       "'Hello,Marley'"
      ]
     },
     "execution_count": 26,
     "metadata": {},
     "output_type": "execute_result"
    }
   ],
   "source": [
    "a+b"
   ]
  },
  {
   "cell_type": "code",
   "execution_count": 27,
   "id": "74a8d23a-1de1-4972-95cb-467451cd592a",
   "metadata": {},
   "outputs": [],
   "source": [
    "n='potato'"
   ]
  },
  {
   "cell_type": "code",
   "execution_count": 28,
   "id": "fd597968-db2d-4f5b-ae56-ee16f6b535d2",
   "metadata": {},
   "outputs": [
    {
     "data": {
      "text/plain": [
       "'potatopotatopotatopotatopotatopotatopotatopotatopotatopotato'"
      ]
     },
     "execution_count": 28,
     "metadata": {},
     "output_type": "execute_result"
    }
   ],
   "source": [
    "n*10"
   ]
  },
  {
   "cell_type": "code",
   "execution_count": 29,
   "id": "063cefb1-c1ef-4043-b7b9-2ffc361c1697",
   "metadata": {},
   "outputs": [
    {
     "data": {
      "text/plain": [
       "False"
      ]
     },
     "execution_count": 29,
     "metadata": {},
     "output_type": "execute_result"
    }
   ],
   "source": [
    "x==y"
   ]
  },
  {
   "cell_type": "code",
   "execution_count": 30,
   "id": "39fcee15-f5c0-463d-b689-d01c5f5aa6a8",
   "metadata": {},
   "outputs": [
    {
     "data": {
      "text/plain": [
       "bool"
      ]
     },
     "execution_count": 30,
     "metadata": {},
     "output_type": "execute_result"
    }
   ],
   "source": [
    "type(x==y)"
   ]
  },
  {
   "cell_type": "markdown",
   "id": "9f07d241-c3dd-4476-9cdd-95d155bd85fc",
   "metadata": {},
   "source": [
    "# Task - 4.2 Jupyter Fundamentals & Python Data Types"
   ]
  },
  {
   "cell_type": "markdown",
   "id": "e07f6386-2efc-4eda-9200-6ec9e750fc46",
   "metadata": {},
   "source": [
    "## Question 7"
   ]
  },
  {
   "cell_type": "code",
   "execution_count": 1,
   "id": "a5afc393-8b63-4f91-9213-d5bc38324781",
   "metadata": {},
   "outputs": [],
   "source": [
    "x=38"
   ]
  },
  {
   "cell_type": "code",
   "execution_count": 2,
   "id": "edd87f6b-74c4-4d04-80e1-c3fade5363e7",
   "metadata": {},
   "outputs": [],
   "source": [
    "y=62"
   ]
  },
  {
   "cell_type": "code",
   "execution_count": 3,
   "id": "9e3fa739-5eff-43c2-b38f-0016223621f3",
   "metadata": {},
   "outputs": [
    {
     "data": {
      "text/plain": [
       "100"
      ]
     },
     "execution_count": 3,
     "metadata": {},
     "output_type": "execute_result"
    }
   ],
   "source": [
    "x+y"
   ]
  },
  {
   "cell_type": "code",
   "execution_count": 4,
   "id": "01ec6caf-d7bd-4814-bdcc-ae2f533008cc",
   "metadata": {},
   "outputs": [
    {
     "data": {
      "text/plain": [
       "100"
      ]
     },
     "execution_count": 4,
     "metadata": {},
     "output_type": "execute_result"
    }
   ],
   "source": [
    "(y*2)-24"
   ]
  },
  {
   "cell_type": "code",
   "execution_count": 5,
   "id": "3e523950-1c10-4608-8fa4-0461c53fd2e3",
   "metadata": {},
   "outputs": [],
   "source": [
    "x=y+45"
   ]
  },
  {
   "cell_type": "code",
   "execution_count": 6,
   "id": "52a244c0-01c9-4936-ac3f-c7bf884b756e",
   "metadata": {},
   "outputs": [
    {
     "data": {
      "text/plain": [
       "100"
      ]
     },
     "execution_count": 6,
     "metadata": {},
     "output_type": "execute_result"
    }
   ],
   "source": [
    "(x+y)-69"
   ]
  },
  {
   "cell_type": "markdown",
   "id": "5eaa1f7c-9d68-479a-b5c2-59f317c33d49",
   "metadata": {},
   "source": [
    "## Question 8"
   ]
  },
  {
   "cell_type": "code",
   "execution_count": 7,
   "id": "4c1b702d-98ef-4cd5-b9d2-f405437d21c3",
   "metadata": {},
   "outputs": [],
   "source": [
    "x=37.934"
   ]
  },
  {
   "cell_type": "code",
   "execution_count": 8,
   "id": "ea635bca-21a5-4cd1-97e0-308ce9e3e207",
   "metadata": {},
   "outputs": [],
   "source": [
    "y=21.35"
   ]
  },
  {
   "cell_type": "code",
   "execution_count": 9,
   "id": "93b7d88b-05cb-4f7c-b46e-4c489ff89e8c",
   "metadata": {},
   "outputs": [
    {
     "data": {
      "text/plain": [
       "1.7767681498829038"
      ]
     },
     "execution_count": 9,
     "metadata": {},
     "output_type": "execute_result"
    }
   ],
   "source": [
    "x/y"
   ]
  },
  {
   "cell_type": "markdown",
   "id": "99e8e0b9-22d6-4815-9e15-80383044a200",
   "metadata": {},
   "source": [
    "## Question 9"
   ]
  },
  {
   "cell_type": "code",
   "execution_count": 10,
   "id": "48c40888-1109-47de-8864-69a9ac5836ac",
   "metadata": {},
   "outputs": [],
   "source": [
    "x='United '"
   ]
  },
  {
   "cell_type": "code",
   "execution_count": 11,
   "id": "91da0aca-4952-4b94-9d25-140aa922b999",
   "metadata": {},
   "outputs": [],
   "source": [
    "y='States'"
   ]
  },
  {
   "cell_type": "code",
   "execution_count": 12,
   "id": "9383c16c-2d87-4c8d-a53a-4ca395c9089d",
   "metadata": {},
   "outputs": [
    {
     "data": {
      "text/plain": [
       "'United States'"
      ]
     },
     "execution_count": 12,
     "metadata": {},
     "output_type": "execute_result"
    }
   ],
   "source": [
    "x+y"
   ]
  },
  {
   "cell_type": "markdown",
   "id": "a25d9a22-c8aa-4188-b9d4-650e9c507132",
   "metadata": {},
   "source": [
    "## Question 10"
   ]
  },
  {
   "cell_type": "code",
   "execution_count": 13,
   "id": "237b0cac-b70d-40f7-afa1-e8879e1a220a",
   "metadata": {},
   "outputs": [],
   "source": [
    "a='What goes around, '"
   ]
  },
  {
   "cell_type": "code",
   "execution_count": 14,
   "id": "c6a5919b-13b3-4269-9c24-1393d5d041dc",
   "metadata": {},
   "outputs": [],
   "source": [
    "b='comes around.'"
   ]
  },
  {
   "cell_type": "code",
   "execution_count": 15,
   "id": "12856771-9d40-4d7f-80e7-5a1b22f15732",
   "metadata": {},
   "outputs": [
    {
     "data": {
      "text/plain": [
       "'What goes around, comes around.'"
      ]
     },
     "execution_count": 15,
     "metadata": {},
     "output_type": "execute_result"
    }
   ],
   "source": [
    "a+b"
   ]
  },
  {
   "cell_type": "code",
   "execution_count": 16,
   "id": "ee5c9d16-c1e8-452a-ac86-6cba911f333c",
   "metadata": {},
   "outputs": [],
   "source": [
    "c='Python is a '"
   ]
  },
  {
   "cell_type": "code",
   "execution_count": 17,
   "id": "9687d4bb-8251-43dd-8186-fccc3fb3cfa5",
   "metadata": {},
   "outputs": [],
   "source": [
    "d='programming language.'"
   ]
  },
  {
   "cell_type": "code",
   "execution_count": 18,
   "id": "65a1009a-a93d-4bf4-9812-074c19ea5fc0",
   "metadata": {},
   "outputs": [
    {
     "data": {
      "text/plain": [
       "'Python is a programming language.'"
      ]
     },
     "execution_count": 18,
     "metadata": {},
     "output_type": "execute_result"
    }
   ],
   "source": [
    "c+d"
   ]
  },
  {
   "cell_type": "markdown",
   "id": "a1ba757e-d060-4636-84a2-1e316126ecbe",
   "metadata": {},
   "source": [
    "## Bonus"
   ]
  },
  {
   "cell_type": "code",
   "execution_count": 19,
   "id": "1163d649-0da7-40c7-9fb0-582b03a13642",
   "metadata": {},
   "outputs": [],
   "source": [
    "a='Python'"
   ]
  },
  {
   "cell_type": "code",
   "execution_count": 20,
   "id": "c4638c98-d2ee-4474-bc39-5889a962b122",
   "metadata": {},
   "outputs": [
    {
     "data": {
      "text/plain": [
       "'PythonPythonPythonPythonPythonPythonPythonPythonPythonPythonPythonPythonPythonPythonPythonPythonPythonPythonPythonPythonPythonPythonPythonPythonPythonPythonPythonPythonPythonPythonPythonPythonPythonPythonPythonPythonPythonPythonPythonPythonPythonPythonPythonPythonPythonPythonPythonPythonPythonPythonPythonPythonPythonPythonPythonPythonPythonPythonPythonPythonPythonPythonPythonPythonPythonPythonPythonPythonPythonPythonPythonPythonPythonPythonPythonPythonPythonPythonPythonPythonPythonPythonPythonPythonPythonPythonPythonPythonPythonPythonPythonPythonPythonPythonPythonPythonPythonPythonPythonPython'"
      ]
     },
     "execution_count": 20,
     "metadata": {},
     "output_type": "execute_result"
    }
   ],
   "source": [
    "a*100"
   ]
  },
  {
   "cell_type": "code",
   "execution_count": null,
   "id": "35d63587-02c4-4973-8c42-9b9292dc10ad",
   "metadata": {},
   "outputs": [],
   "source": []
  }
 ],
 "metadata": {
  "kernelspec": {
   "display_name": "Python 3 (ipykernel)",
   "language": "python",
   "name": "python3"
  },
  "language_info": {
   "codemirror_mode": {
    "name": "ipython",
    "version": 3
   },
   "file_extension": ".py",
   "mimetype": "text/x-python",
   "name": "python",
   "nbconvert_exporter": "python",
   "pygments_lexer": "ipython3",
   "version": "3.11.7"
  }
 },
 "nbformat": 4,
 "nbformat_minor": 5
}
