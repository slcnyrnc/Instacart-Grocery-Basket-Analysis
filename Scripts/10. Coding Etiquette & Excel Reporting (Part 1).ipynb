{
 "cells": [
  {
   "cell_type": "markdown",
   "id": "f015bb2c-31fd-4d99-9212-815d6c7f3f6d",
   "metadata": {},
   "source": [
    "# Instacart Grocery Basket Analysis"
   ]
  },
  {
   "cell_type": "markdown",
   "id": "292de59b-23d9-4993-be00-4a6447b0a4ac",
   "metadata": {},
   "source": [
    "##### Question 1 - Importing libraries\n",
    "##### Question 2 - Security considerations\n",
    "##### Question 3 - Regional segmentation\n",
    "##### Question 4 - Defining low-activity customers\n",
    "##### Question 5 - Customer profiling\n",
    "##### Question 6 - Visualisations of customer profiles\n",
    "##### Question 7 - Customer profile statistics \n",
    "##### Question 8 - Customer analysis by regions and departments"
   ]
  },
  {
   "cell_type": "markdown",
   "id": "41fa7c8d-ad59-4d9d-8e6e-d91128a90a2b",
   "metadata": {},
   "source": [
    "### Question 1 - Importing libraries"
   ]
  },
  {
   "cell_type": "code",
   "execution_count": 2,
   "id": "d096f84b-1049-47bc-8f1b-2c4b3b8a20a6",
   "metadata": {},
   "outputs": [],
   "source": [
    "# Import libraries\n",
    "\n",
    "import pandas as pd\n",
    "import numpy as np\n",
    "import os\n",
    "import matplotlib.pyplot as plt\n",
    "import seaborn as sns\n",
    "import scipy"
   ]
  },
  {
   "cell_type": "code",
   "execution_count": 3,
   "id": "cc4a60d6-01a1-453a-b32e-9b4f27ecdc6f",
   "metadata": {},
   "outputs": [],
   "source": [
    "# Import merged dataset\n",
    "\n",
    "path = r'/Users/selcenayranci/Desktop/4th Achievement -  Instacart Basket Analysis March 2024'"
   ]
  },
  {
   "cell_type": "code",
   "execution_count": 4,
   "id": "7253cb25-0754-4856-aa6d-19e75a8ddabc",
   "metadata": {},
   "outputs": [],
   "source": [
    "ords_prods_cus = pd.read_pickle(os.path.join(path, '02. Data', 'Prepared Data', 'ords_prods_cus.pkl'))"
   ]
  },
  {
   "cell_type": "markdown",
   "id": "aadbbfa4-bdb6-449a-9d89-6dacfe475063",
   "metadata": {},
   "source": [
    "### Question 2 - Security considerations"
   ]
  },
  {
   "cell_type": "markdown",
   "id": "7f96ab66-25f1-4145-87a9-8df6623a4b34",
   "metadata": {},
   "source": [
    "The dataset includes personally identifiable information (PII) including first and last name, gender, age, number of dependants, family status, and income. First name and last name is removed due to this reason. However this data is generated for this course and do not represent real individuals."
   ]
  },
  {
   "cell_type": "markdown",
   "id": "89a22a02-d416-4fb7-99e7-306b884e7a0a",
   "metadata": {},
   "source": [
    "### Question 3 - Regional segmentation"
   ]
  },
  {
   "cell_type": "markdown",
   "id": "6429ff3f-99d1-421d-87f0-386e8481074b",
   "metadata": {},
   "source": [
    "##### Creating a “Region” column based on the “State” column"
   ]
  },
  {
   "cell_type": "code",
   "execution_count": 5,
   "id": "23c4a7c2-8d69-480d-a64e-9ff1f23589d8",
   "metadata": {},
   "outputs": [],
   "source": [
    "result = []\n",
    "for value in ords_prods_cus['State']:\n",
    "    if value in ['Maine', 'New Hampshire', 'Vermont', 'Massachusetts', 'Rhode Island', 'Connecticut', 'New York', 'Pennsylvania', 'New Jersey']:\n",
    "        result.append('Northeast')\n",
    "    elif value in ['Wisconsin', 'Michigan', 'Illinois', 'Indiana', 'Ohio', 'North Dakota', 'South Dakota', 'Nebraska', 'Kansas', 'Minnesota', 'Iowa', 'Missouri']:\n",
    "        result.append('Midwest')\n",
    "    elif value in ['Delaware', 'Maryland', 'District of Columbia', 'Virginia', 'West Virginia', 'North Carolina', 'South Carolina', 'Georgia', 'Florida', 'Kentucky', 'Tennessee', 'Mississippi', 'Alabama', 'Oklahoma', 'Texas', 'Arkansas', 'Louisiana']:\n",
    "        result.append('South')\n",
    "    else:\n",
    "        result.append('West')\n",
    "\n",
    "ords_prods_cus['Region'] = result"
   ]
  },
  {
   "cell_type": "code",
   "execution_count": 6,
   "id": "962fc125-49ae-48e1-96e5-68884c20b0b4",
   "metadata": {},
   "outputs": [
    {
     "data": {
      "text/plain": [
       "Region\n",
       "South        10801610\n",
       "West          8300445\n",
       "Midwest       7603810\n",
       "Northeast     5728347\n",
       "Name: count, dtype: int64"
      ]
     },
     "execution_count": 6,
     "metadata": {},
     "output_type": "execute_result"
    }
   ],
   "source": [
    "ords_prods_cus['Region'].value_counts(dropna = False)"
   ]
  },
  {
   "cell_type": "markdown",
   "id": "1cdad7c7-fdd9-493c-b421-c399f54153dd",
   "metadata": {},
   "source": [
    "##### Spending habits between the regions"
   ]
  },
  {
   "cell_type": "code",
   "execution_count": 7,
   "id": "65860e2d-3e47-491f-92af-3a166f4db6b9",
   "metadata": {},
   "outputs": [
    {
     "data": {
      "text/html": [
       "<div>\n",
       "<style scoped>\n",
       "    .dataframe tbody tr th:only-of-type {\n",
       "        vertical-align: middle;\n",
       "    }\n",
       "\n",
       "    .dataframe tbody tr th {\n",
       "        vertical-align: top;\n",
       "    }\n",
       "\n",
       "    .dataframe thead th {\n",
       "        text-align: right;\n",
       "    }\n",
       "</style>\n",
       "<table border=\"1\" class=\"dataframe\">\n",
       "  <thead>\n",
       "    <tr style=\"text-align: right;\">\n",
       "      <th>spending_flag</th>\n",
       "      <th>High spender</th>\n",
       "      <th>Low spender</th>\n",
       "    </tr>\n",
       "    <tr>\n",
       "      <th>Region</th>\n",
       "      <th></th>\n",
       "      <th></th>\n",
       "    </tr>\n",
       "  </thead>\n",
       "  <tbody>\n",
       "    <tr>\n",
       "      <th>South</th>\n",
       "      <td>210182</td>\n",
       "      <td>10591428</td>\n",
       "    </tr>\n",
       "    <tr>\n",
       "      <th>West</th>\n",
       "      <td>160807</td>\n",
       "      <td>8139638</td>\n",
       "    </tr>\n",
       "    <tr>\n",
       "      <th>Midwest</th>\n",
       "      <td>156129</td>\n",
       "      <td>7447681</td>\n",
       "    </tr>\n",
       "    <tr>\n",
       "      <th>Northeast</th>\n",
       "      <td>108343</td>\n",
       "      <td>5620004</td>\n",
       "    </tr>\n",
       "  </tbody>\n",
       "</table>\n",
       "</div>"
      ],
      "text/plain": [
       "spending_flag  High spender  Low spender\n",
       "Region                                  \n",
       "South                210182     10591428\n",
       "West                 160807      8139638\n",
       "Midwest              156129      7447681\n",
       "Northeast            108343      5620004"
      ]
     },
     "execution_count": 7,
     "metadata": {},
     "output_type": "execute_result"
    }
   ],
   "source": [
    "spending_by_region = pd.crosstab(ords_prods_cus['Region'], ords_prods_cus['spending_flag'], dropna = False).sort_values(by = 'High spender', ascending = False)\n",
    "spending_by_region"
   ]
  },
  {
   "cell_type": "markdown",
   "id": "a2fec061-2672-42ea-981d-cb7f80a6ecf4",
   "metadata": {},
   "source": [
    "### Question 4 - Defining low-activity customers"
   ]
  },
  {
   "cell_type": "code",
   "execution_count": 8,
   "id": "76d02f81-a189-4f05-aead-9a8b27122d9e",
   "metadata": {},
   "outputs": [
    {
     "data": {
      "text/plain": [
       "exclusion_flag\n",
       "No     24436791\n",
       "Yes     7997421\n",
       "Name: count, dtype: int64"
      ]
     },
     "execution_count": 8,
     "metadata": {},
     "output_type": "execute_result"
    }
   ],
   "source": [
    "# Creating an exclusion flag for low-activity customers (customers with less than 5 orders)\n",
    "\n",
    "ords_prods_cus.loc[ords_prods_cus['order_number'] < 5, 'exclusion_flag'] = 'Yes'\n",
    "ords_prods_cus.loc[ords_prods_cus['order_number'] >= 5, 'exclusion_flag'] = 'No'\n",
    "\n",
    "ords_prods_cus['exclusion_flag'].value_counts(dropna = False)"
   ]
  },
  {
   "cell_type": "code",
   "execution_count": 21,
   "id": "dd197946-f15d-4d3a-b110-3e57df227a4a",
   "metadata": {},
   "outputs": [
    {
     "data": {
      "text/plain": [
       "(32434212, 29)"
      ]
     },
     "execution_count": 21,
     "metadata": {},
     "output_type": "execute_result"
    }
   ],
   "source": [
    "ords_prods_cus.shape"
   ]
  },
  {
   "cell_type": "code",
   "execution_count": 9,
   "id": "7750ab55-d892-49f5-8ae5-047fc605d86f",
   "metadata": {},
   "outputs": [],
   "source": [
    "# Creating a sample with only high activity customers while excluding low activity customers\n",
    "\n",
    "ords_prods_active_cus = ords_prods_cus.loc[ords_prods_cus['exclusion_flag'] == 'Yes']"
   ]
  },
  {
   "cell_type": "code",
   "execution_count": 10,
   "id": "5cb6999a-cba3-418f-9751-b1a6df4403d7",
   "metadata": {},
   "outputs": [
    {
     "data": {
      "text/plain": [
       "exclusion_flag\n",
       "Yes    7997421\n",
       "Name: count, dtype: int64"
      ]
     },
     "execution_count": 10,
     "metadata": {},
     "output_type": "execute_result"
    }
   ],
   "source": [
    "ords_prods_active_cus['exclusion_flag'].value_counts(dropna = False)"
   ]
  },
  {
   "cell_type": "code",
   "execution_count": 11,
   "id": "2f3a662a-94cd-44c7-8d26-9c18a9d489fd",
   "metadata": {},
   "outputs": [
    {
     "data": {
      "text/plain": [
       "(7997421, 29)"
      ]
     },
     "execution_count": 11,
     "metadata": {},
     "output_type": "execute_result"
    }
   ],
   "source": [
    "ords_prods_active_cus.shape"
   ]
  },
  {
   "cell_type": "code",
   "execution_count": 12,
   "id": "c1ec1c17-28a8-435b-b3ab-370b33c16346",
   "metadata": {},
   "outputs": [],
   "source": [
    "# Exporting the sample\n",
    "\n",
    "ords_prods_active_cus.to_pickle(os.path.join(path, '02. Data', 'Prepared Data', 'ords_prods_active_cus.pkl'))"
   ]
  },
  {
   "cell_type": "markdown",
   "id": "985e1516-d66a-40f8-892b-95c82c03f059",
   "metadata": {},
   "source": [
    "### Question 5 - Customer profiling"
   ]
  },
  {
   "cell_type": "markdown",
   "id": "7653bbf7-9457-4163-a724-b117563d0230",
   "metadata": {},
   "source": [
    "Age column is set into three categories: 'Young Adult' (ages below 40), 'Middle Age' (ages 40-60), and 'Senior' (ages over 60).\n",
    "\n",
    "Income column is set into three categories: 'Low income' (less than 65367), 'Middle class' (from 65367 to 127106) and 'High income' (127106 and above)."
   ]
  },
  {
   "cell_type": "code",
   "execution_count": 15,
   "id": "730a5f5a-7836-4d9e-b6da-37c8ae15ff5d",
   "metadata": {},
   "outputs": [
    {
     "data": {
      "text/plain": [
       "count    7.997421e+06\n",
       "mean     9.803908e+04\n",
       "std      4.216936e+04\n",
       "min      2.590300e+04\n",
       "25%      6.536700e+04\n",
       "50%      9.599000e+04\n",
       "75%      1.271060e+05\n",
       "max      5.939010e+05\n",
       "Name: income, dtype: float64"
      ]
     },
     "execution_count": 15,
     "metadata": {},
     "output_type": "execute_result"
    }
   ],
   "source": [
    "ords_prods_active_cus['income'].describe()"
   ]
  },
  {
   "cell_type": "code",
   "execution_count": 26,
   "id": "d9a952d7-3ae7-4ac3-8e0d-db803238c8ef",
   "metadata": {},
   "outputs": [],
   "source": [
    "# Define Young Adult by income \n",
    "ords_prods_active_cus.loc[(ords_prods_active_cus['Age'] < 40) & (ords_prods_active_cus['income'] < 65367), \n",
    "                   'Customer Profile'] = 'Low income, Young Adult'\n",
    "ords_prods_active_cus.loc[(ords_prods_active_cus['Age'] < 40) & (ords_prods_active_cus['income'] >= 65367) & (ords_prods_active_cus['income'] < 127106), \n",
    "                   'Customer Profile'] = 'Middle class, Young Adult'\n",
    "ords_prods_active_cus.loc[(ords_prods_active_cus['Age'] < 40) & (ords_prods_active_cus['income'] >= 127106), \n",
    "                   'Customer Profile'] = 'High income, Young Adult'"
   ]
  },
  {
   "cell_type": "code",
   "execution_count": 25,
   "id": "c9bd9dc7-1ae2-4389-b00e-07da26c724a4",
   "metadata": {},
   "outputs": [],
   "source": [
    "# Define Middle Age by income\n",
    "\n",
    "ords_prods_active_cus.loc[(ords_prods_active_cus['Age'] >= 40) & (ords_prods_active_cus['Age'] < 60) & (ords_prods_active_cus['income'] < 65367), \n",
    "                   'Customer Profile'] = 'Low income, Middle Age'\n",
    "ords_prods_active_cus.loc[(ords_prods_active_cus['Age'] >= 40) & (ords_prods_active_cus['Age'] < 60) & (ords_prods_active_cus['income'] >= 65367) & \n",
    "                   (ords_prods_active_cus['income'] < 127106), \n",
    "                   'Customer Profile'] = 'Middle class, Middle Age'\n",
    "ords_prods_active_cus.loc[(ords_prods_active_cus['Age'] >= 40) & (ords_prods_active_cus['Age'] < 60) & (ords_prods_active_cus['income'] >= 127106), \n",
    "                   'Customer Profile'] = 'High income, Middle Age'"
   ]
  },
  {
   "cell_type": "code",
   "execution_count": 27,
   "id": "9fb4cfe1-aea6-439b-ad89-a93557edaf40",
   "metadata": {},
   "outputs": [],
   "source": [
    "# Define Senior by income\n",
    "\n",
    "ords_prods_active_cus.loc[(ords_prods_active_cus['Age'] >= 60) & (ords_prods_active_cus['income'] < 65367), \n",
    "                   'Customer Profile'] = 'Low income, Senior'\n",
    "ords_prods_active_cus.loc[(ords_prods_active_cus['Age'] >= 60) & (ords_prods_active_cus['income'] >= 65367) & (ords_prods_active_cus['income'] < 127106), \n",
    "                   'Customer Profile'] = 'Middle class, Senior'\n",
    "ords_prods_active_cus.loc[(ords_prods_active_cus['Age'] >= 60) & (ords_prods_active_cus['income'] >= 127106), \n",
    "                   'Customer Profile'] = 'High income, Senior'"
   ]
  },
  {
   "cell_type": "code",
   "execution_count": 28,
   "id": "8359f6b4-6983-4c0f-b05c-8280d22ad7dd",
   "metadata": {},
   "outputs": [
    {
     "data": {
      "text/html": [
       "<div>\n",
       "<style scoped>\n",
       "    .dataframe tbody tr th:only-of-type {\n",
       "        vertical-align: middle;\n",
       "    }\n",
       "\n",
       "    .dataframe tbody tr th {\n",
       "        vertical-align: top;\n",
       "    }\n",
       "\n",
       "    .dataframe thead th {\n",
       "        text-align: right;\n",
       "    }\n",
       "</style>\n",
       "<table border=\"1\" class=\"dataframe\">\n",
       "  <thead>\n",
       "    <tr style=\"text-align: right;\">\n",
       "      <th>fam_status</th>\n",
       "      <th>divorced/widowed</th>\n",
       "      <th>living with parents and siblings</th>\n",
       "      <th>married</th>\n",
       "      <th>single</th>\n",
       "    </tr>\n",
       "    <tr>\n",
       "      <th>Customer Profile</th>\n",
       "      <th></th>\n",
       "      <th></th>\n",
       "      <th></th>\n",
       "      <th></th>\n",
       "    </tr>\n",
       "  </thead>\n",
       "  <tbody>\n",
       "    <tr>\n",
       "      <th>High income, Middle Age</th>\n",
       "      <td>0</td>\n",
       "      <td>0</td>\n",
       "      <td>692590</td>\n",
       "      <td>230296</td>\n",
       "    </tr>\n",
       "    <tr>\n",
       "      <th>High income, Senior</th>\n",
       "      <td>260740</td>\n",
       "      <td>0</td>\n",
       "      <td>791159</td>\n",
       "      <td>0</td>\n",
       "    </tr>\n",
       "    <tr>\n",
       "      <th>High income, Young Adult</th>\n",
       "      <td>0</td>\n",
       "      <td>2889</td>\n",
       "      <td>15853</td>\n",
       "      <td>5847</td>\n",
       "    </tr>\n",
       "    <tr>\n",
       "      <th>Low income, Middle Age</th>\n",
       "      <td>0</td>\n",
       "      <td>0</td>\n",
       "      <td>301615</td>\n",
       "      <td>96587</td>\n",
       "    </tr>\n",
       "    <tr>\n",
       "      <th>Low income, Senior</th>\n",
       "      <td>96122</td>\n",
       "      <td>0</td>\n",
       "      <td>293050</td>\n",
       "      <td>0</td>\n",
       "    </tr>\n",
       "    <tr>\n",
       "      <th>Low income, Young Adult</th>\n",
       "      <td>0</td>\n",
       "      <td>165941</td>\n",
       "      <td>738442</td>\n",
       "      <td>307576</td>\n",
       "    </tr>\n",
       "    <tr>\n",
       "      <th>Middle class, Middle Age</th>\n",
       "      <td>0</td>\n",
       "      <td>0</td>\n",
       "      <td>895619</td>\n",
       "      <td>293752</td>\n",
       "    </tr>\n",
       "    <tr>\n",
       "      <th>Middle class, Senior</th>\n",
       "      <td>326405</td>\n",
       "      <td>0</td>\n",
       "      <td>971797</td>\n",
       "      <td>0</td>\n",
       "    </tr>\n",
       "    <tr>\n",
       "      <th>Middle class, Young Adult</th>\n",
       "      <td>0</td>\n",
       "      <td>210737</td>\n",
       "      <td>923319</td>\n",
       "      <td>377085</td>\n",
       "    </tr>\n",
       "  </tbody>\n",
       "</table>\n",
       "</div>"
      ],
      "text/plain": [
       "fam_status                 divorced/widowed  living with parents and siblings  \\\n",
       "Customer Profile                                                                \n",
       "High income, Middle Age                   0                                 0   \n",
       "High income, Senior                  260740                                 0   \n",
       "High income, Young Adult                  0                              2889   \n",
       "Low income, Middle Age                    0                                 0   \n",
       "Low income, Senior                    96122                                 0   \n",
       "Low income, Young Adult                   0                            165941   \n",
       "Middle class, Middle Age                  0                                 0   \n",
       "Middle class, Senior                 326405                                 0   \n",
       "Middle class, Young Adult                 0                            210737   \n",
       "\n",
       "fam_status                 married  single  \n",
       "Customer Profile                            \n",
       "High income, Middle Age     692590  230296  \n",
       "High income, Senior         791159       0  \n",
       "High income, Young Adult     15853    5847  \n",
       "Low income, Middle Age      301615   96587  \n",
       "Low income, Senior          293050       0  \n",
       "Low income, Young Adult     738442  307576  \n",
       "Middle class, Middle Age    895619  293752  \n",
       "Middle class, Senior        971797       0  \n",
       "Middle class, Young Adult   923319  377085  "
      ]
     },
     "execution_count": 28,
     "metadata": {},
     "output_type": "execute_result"
    }
   ],
   "source": [
    "# Familiy status by customer profile\n",
    "\n",
    "fam_status_by_cus = pd.crosstab(ords_prods_active_cus['Customer Profile'], ords_prods_active_cus['fam_status'], dropna = False)\n",
    "fam_status_by_cus"
   ]
  },
  {
   "cell_type": "code",
   "execution_count": 29,
   "id": "f6c67332-befb-4aaf-8263-fa4b92e05284",
   "metadata": {},
   "outputs": [
    {
     "data": {
      "text/html": [
       "<div>\n",
       "<style scoped>\n",
       "    .dataframe tbody tr th:only-of-type {\n",
       "        vertical-align: middle;\n",
       "    }\n",
       "\n",
       "    .dataframe tbody tr th {\n",
       "        vertical-align: top;\n",
       "    }\n",
       "\n",
       "    .dataframe thead th {\n",
       "        text-align: right;\n",
       "    }\n",
       "</style>\n",
       "<table border=\"1\" class=\"dataframe\">\n",
       "  <thead>\n",
       "    <tr style=\"text-align: right;\">\n",
       "      <th>n_dependants</th>\n",
       "      <th>0</th>\n",
       "      <th>1</th>\n",
       "      <th>2</th>\n",
       "      <th>3</th>\n",
       "    </tr>\n",
       "    <tr>\n",
       "      <th>Customer Profile</th>\n",
       "      <th></th>\n",
       "      <th></th>\n",
       "      <th></th>\n",
       "      <th></th>\n",
       "    </tr>\n",
       "  </thead>\n",
       "  <tbody>\n",
       "    <tr>\n",
       "      <th>High income, Middle Age</th>\n",
       "      <td>230296</td>\n",
       "      <td>235362</td>\n",
       "      <td>226218</td>\n",
       "      <td>231010</td>\n",
       "    </tr>\n",
       "    <tr>\n",
       "      <th>High income, Senior</th>\n",
       "      <td>260740</td>\n",
       "      <td>261515</td>\n",
       "      <td>262768</td>\n",
       "      <td>266876</td>\n",
       "    </tr>\n",
       "    <tr>\n",
       "      <th>High income, Young Adult</th>\n",
       "      <td>5847</td>\n",
       "      <td>5114</td>\n",
       "      <td>6885</td>\n",
       "      <td>6743</td>\n",
       "    </tr>\n",
       "    <tr>\n",
       "      <th>Low income, Middle Age</th>\n",
       "      <td>96587</td>\n",
       "      <td>102240</td>\n",
       "      <td>97840</td>\n",
       "      <td>101535</td>\n",
       "    </tr>\n",
       "    <tr>\n",
       "      <th>Low income, Senior</th>\n",
       "      <td>96122</td>\n",
       "      <td>97559</td>\n",
       "      <td>98721</td>\n",
       "      <td>96770</td>\n",
       "    </tr>\n",
       "    <tr>\n",
       "      <th>Low income, Young Adult</th>\n",
       "      <td>307576</td>\n",
       "      <td>301448</td>\n",
       "      <td>303622</td>\n",
       "      <td>299313</td>\n",
       "    </tr>\n",
       "    <tr>\n",
       "      <th>Middle class, Middle Age</th>\n",
       "      <td>293752</td>\n",
       "      <td>300842</td>\n",
       "      <td>295712</td>\n",
       "      <td>299065</td>\n",
       "    </tr>\n",
       "    <tr>\n",
       "      <th>Middle class, Senior</th>\n",
       "      <td>326405</td>\n",
       "      <td>321587</td>\n",
       "      <td>326149</td>\n",
       "      <td>324061</td>\n",
       "    </tr>\n",
       "    <tr>\n",
       "      <th>Middle class, Young Adult</th>\n",
       "      <td>377085</td>\n",
       "      <td>375165</td>\n",
       "      <td>380833</td>\n",
       "      <td>378058</td>\n",
       "    </tr>\n",
       "  </tbody>\n",
       "</table>\n",
       "</div>"
      ],
      "text/plain": [
       "n_dependants                    0       1       2       3\n",
       "Customer Profile                                         \n",
       "High income, Middle Age    230296  235362  226218  231010\n",
       "High income, Senior        260740  261515  262768  266876\n",
       "High income, Young Adult     5847    5114    6885    6743\n",
       "Low income, Middle Age      96587  102240   97840  101535\n",
       "Low income, Senior          96122   97559   98721   96770\n",
       "Low income, Young Adult    307576  301448  303622  299313\n",
       "Middle class, Middle Age   293752  300842  295712  299065\n",
       "Middle class, Senior       326405  321587  326149  324061\n",
       "Middle class, Young Adult  377085  375165  380833  378058"
      ]
     },
     "execution_count": 29,
     "metadata": {},
     "output_type": "execute_result"
    }
   ],
   "source": [
    "# Number of dependants by customer profile\n",
    "\n",
    "depen_by_cus = pd.crosstab(ords_prods_active_cus['Customer Profile'], ords_prods_active_cus['n_dependants'], dropna = False)\n",
    "depen_by_cus"
   ]
  },
  {
   "cell_type": "markdown",
   "id": "af4321d1-e7f2-461b-baef-02afdedb0772",
   "metadata": {},
   "source": [
    "### Question 6 - Visualisations of customer profiles"
   ]
  },
  {
   "cell_type": "code",
   "execution_count": 30,
   "id": "effda3f0-0c92-4378-a3b2-f52d2f05bbcc",
   "metadata": {},
   "outputs": [
    {
     "data": {
      "text/plain": [
       "Customer Profile\n",
       "Middle class, Young Adult    1511141\n",
       "Middle class, Senior         1298202\n",
       "Low income, Young Adult      1211959\n",
       "Middle class, Middle Age     1189371\n",
       "High income, Senior          1051899\n",
       "High income, Middle Age       922886\n",
       "Low income, Middle Age        398202\n",
       "Low income, Senior            389172\n",
       "High income, Young Adult       24589\n",
       "Name: count, dtype: int64"
      ]
     },
     "execution_count": 30,
     "metadata": {},
     "output_type": "execute_result"
    }
   ],
   "source": [
    "# Distribution of customer profile\n",
    "\n",
    "ords_prods_active_cus['Customer Profile'].value_counts()"
   ]
  },
  {
   "cell_type": "code",
   "execution_count": 32,
   "id": "814b47ac-07fc-4f00-ad1e-1d804be0f077",
   "metadata": {},
   "outputs": [
    {
     "data": {
      "text/plain": [
       "Text(0, 0.5, '')"
      ]
     },
     "execution_count": 32,
     "metadata": {},
     "output_type": "execute_result"
    },
    {
     "data": {
      "image/png": "[encoded data removed]",
      "text/plain": [
       "<Figure size 640x480 with 1 Axes>"
      ]
     },
     "metadata": {},
     "output_type": "display_data"
    }
   ],
   "source": [
    "cus_profiles = ords_prods_active_cus['Customer Profile'].value_counts().sort_values(ascending = True).plot.barh(\n",
    "    x='Number of Customers', \n",
    "    y='Customer Profiles', \n",
    "    title='Distribution of Customer Profiles', \n",
    "    color='olivedrab')\n",
    "plt.xlabel('User Count')\n",
    "plt.ylabel('')"
   ]
  },
  {
   "cell_type": "code",
   "execution_count": 74,
   "id": "3bae186b-dad5-4b1d-9dc3-c748bdcd49ff",
   "metadata": {},
   "outputs": [],
   "source": [
    "# Exporting bar chart\n",
    "\n",
    "cus_profiles.figure.savefig(os.path.join(path, '04. Analysis', 'Visualizations', 'bar_customer_profiles.png'), bbox_inches='tight')"
   ]
  },
  {
   "cell_type": "markdown",
   "id": "c8782d1b-8a08-4a4b-8a1a-c2967441038a",
   "metadata": {},
   "source": [
    "### Question 7 - Customer profile statistics"
   ]
  },
  {
   "cell_type": "code",
   "execution_count": 34,
   "id": "519dfc37-9e10-4b37-a53e-afd759a8ee13",
   "metadata": {},
   "outputs": [
    {
     "data": {
      "text/html": [
       "<div>\n",
       "<style scoped>\n",
       "    .dataframe tbody tr th:only-of-type {\n",
       "        vertical-align: middle;\n",
       "    }\n",
       "\n",
       "    .dataframe tbody tr th {\n",
       "        vertical-align: top;\n",
       "    }\n",
       "\n",
       "    .dataframe thead tr th {\n",
       "        text-align: left;\n",
       "    }\n",
       "\n",
       "    .dataframe thead tr:last-of-type th {\n",
       "        text-align: right;\n",
       "    }\n",
       "</style>\n",
       "<table border=\"1\" class=\"dataframe\">\n",
       "  <thead>\n",
       "    <tr>\n",
       "      <th></th>\n",
       "      <th colspan=\"3\" halign=\"left\">order_frequency</th>\n",
       "    </tr>\n",
       "    <tr>\n",
       "      <th></th>\n",
       "      <th>mean</th>\n",
       "      <th>min</th>\n",
       "      <th>max</th>\n",
       "    </tr>\n",
       "    <tr>\n",
       "      <th>Customer Profile</th>\n",
       "      <th></th>\n",
       "      <th></th>\n",
       "      <th></th>\n",
       "    </tr>\n",
       "  </thead>\n",
       "  <tbody>\n",
       "    <tr>\n",
       "      <th>Low income, Middle Age</th>\n",
       "      <td>13.689386</td>\n",
       "      <td>0.0</td>\n",
       "      <td>30.0</td>\n",
       "    </tr>\n",
       "    <tr>\n",
       "      <th>Low income, Senior</th>\n",
       "      <td>13.653999</td>\n",
       "      <td>0.0</td>\n",
       "      <td>30.0</td>\n",
       "    </tr>\n",
       "    <tr>\n",
       "      <th>Low income, Young Adult</th>\n",
       "      <td>13.160053</td>\n",
       "      <td>0.0</td>\n",
       "      <td>30.0</td>\n",
       "    </tr>\n",
       "    <tr>\n",
       "      <th>Middle class, Middle Age</th>\n",
       "      <td>12.907639</td>\n",
       "      <td>0.0</td>\n",
       "      <td>30.0</td>\n",
       "    </tr>\n",
       "    <tr>\n",
       "      <th>High income, Middle Age</th>\n",
       "      <td>12.864572</td>\n",
       "      <td>0.0</td>\n",
       "      <td>30.0</td>\n",
       "    </tr>\n",
       "    <tr>\n",
       "      <th>Middle class, Young Adult</th>\n",
       "      <td>12.840969</td>\n",
       "      <td>0.0</td>\n",
       "      <td>30.0</td>\n",
       "    </tr>\n",
       "    <tr>\n",
       "      <th>Middle class, Senior</th>\n",
       "      <td>12.836910</td>\n",
       "      <td>0.0</td>\n",
       "      <td>30.0</td>\n",
       "    </tr>\n",
       "    <tr>\n",
       "      <th>High income, Senior</th>\n",
       "      <td>12.799163</td>\n",
       "      <td>0.0</td>\n",
       "      <td>30.0</td>\n",
       "    </tr>\n",
       "    <tr>\n",
       "      <th>High income, Young Adult</th>\n",
       "      <td>12.321465</td>\n",
       "      <td>0.0</td>\n",
       "      <td>30.0</td>\n",
       "    </tr>\n",
       "  </tbody>\n",
       "</table>\n",
       "</div>"
      ],
      "text/plain": [
       "                          order_frequency           \n",
       "                                     mean  min   max\n",
       "Customer Profile                                    \n",
       "Low income, Middle Age          13.689386  0.0  30.0\n",
       "Low income, Senior              13.653999  0.0  30.0\n",
       "Low income, Young Adult         13.160053  0.0  30.0\n",
       "Middle class, Middle Age        12.907639  0.0  30.0\n",
       "High income, Middle Age         12.864572  0.0  30.0\n",
       "Middle class, Young Adult       12.840969  0.0  30.0\n",
       "Middle class, Senior            12.836910  0.0  30.0\n",
       "High income, Senior             12.799163  0.0  30.0\n",
       "High income, Young Adult        12.321465  0.0  30.0"
      ]
     },
     "execution_count": 34,
     "metadata": {},
     "output_type": "execute_result"
    }
   ],
   "source": [
    "# Order frequency by customer profile\n",
    "\n",
    "order_freq_cus = ords_prods_active_cus.groupby('Customer Profile').agg({'order_frequency': ['mean', 'min', 'max']}).sort_values(by = ('order_frequency', 'mean'), ascending = False)\n",
    "order_freq_cus"
   ]
  },
  {
   "cell_type": "code",
   "execution_count": 35,
   "id": "5d914a05-8ce5-417c-a2f2-782060b4d377",
   "metadata": {},
   "outputs": [
    {
     "data": {
      "text/html": [
       "<div>\n",
       "<style scoped>\n",
       "    .dataframe tbody tr th:only-of-type {\n",
       "        vertical-align: middle;\n",
       "    }\n",
       "\n",
       "    .dataframe tbody tr th {\n",
       "        vertical-align: top;\n",
       "    }\n",
       "\n",
       "    .dataframe thead tr th {\n",
       "        text-align: left;\n",
       "    }\n",
       "\n",
       "    .dataframe thead tr:last-of-type th {\n",
       "        text-align: right;\n",
       "    }\n",
       "</style>\n",
       "<table border=\"1\" class=\"dataframe\">\n",
       "  <thead>\n",
       "    <tr>\n",
       "      <th></th>\n",
       "      <th colspan=\"3\" halign=\"left\">prices</th>\n",
       "    </tr>\n",
       "    <tr>\n",
       "      <th></th>\n",
       "      <th>mean</th>\n",
       "      <th>min</th>\n",
       "      <th>max</th>\n",
       "    </tr>\n",
       "    <tr>\n",
       "      <th>Customer Profile</th>\n",
       "      <th></th>\n",
       "      <th></th>\n",
       "      <th></th>\n",
       "    </tr>\n",
       "  </thead>\n",
       "  <tbody>\n",
       "    <tr>\n",
       "      <th>High income, Young Adult</th>\n",
       "      <td>363.902322</td>\n",
       "      <td>1.0</td>\n",
       "      <td>99999.0</td>\n",
       "    </tr>\n",
       "    <tr>\n",
       "      <th>High income, Middle Age</th>\n",
       "      <td>20.119185</td>\n",
       "      <td>1.0</td>\n",
       "      <td>99999.0</td>\n",
       "    </tr>\n",
       "    <tr>\n",
       "      <th>High income, Senior</th>\n",
       "      <td>17.910373</td>\n",
       "      <td>1.0</td>\n",
       "      <td>99999.0</td>\n",
       "    </tr>\n",
       "    <tr>\n",
       "      <th>Middle class, Young Adult</th>\n",
       "      <td>10.151053</td>\n",
       "      <td>1.0</td>\n",
       "      <td>99999.0</td>\n",
       "    </tr>\n",
       "    <tr>\n",
       "      <th>Middle class, Middle Age</th>\n",
       "      <td>9.488263</td>\n",
       "      <td>1.0</td>\n",
       "      <td>99999.0</td>\n",
       "    </tr>\n",
       "    <tr>\n",
       "      <th>Middle class, Senior</th>\n",
       "      <td>9.371868</td>\n",
       "      <td>1.0</td>\n",
       "      <td>99999.0</td>\n",
       "    </tr>\n",
       "    <tr>\n",
       "      <th>Low income, Young Adult</th>\n",
       "      <td>7.535640</td>\n",
       "      <td>1.0</td>\n",
       "      <td>25.0</td>\n",
       "    </tr>\n",
       "    <tr>\n",
       "      <th>Low income, Middle Age</th>\n",
       "      <td>6.714183</td>\n",
       "      <td>1.0</td>\n",
       "      <td>25.0</td>\n",
       "    </tr>\n",
       "    <tr>\n",
       "      <th>Low income, Senior</th>\n",
       "      <td>6.608321</td>\n",
       "      <td>1.0</td>\n",
       "      <td>25.0</td>\n",
       "    </tr>\n",
       "  </tbody>\n",
       "</table>\n",
       "</div>"
      ],
      "text/plain": [
       "                               prices              \n",
       "                                 mean  min      max\n",
       "Customer Profile                                   \n",
       "High income, Young Adult   363.902322  1.0  99999.0\n",
       "High income, Middle Age     20.119185  1.0  99999.0\n",
       "High income, Senior         17.910373  1.0  99999.0\n",
       "Middle class, Young Adult   10.151053  1.0  99999.0\n",
       "Middle class, Middle Age     9.488263  1.0  99999.0\n",
       "Middle class, Senior         9.371868  1.0  99999.0\n",
       "Low income, Young Adult      7.535640  1.0     25.0\n",
       "Low income, Middle Age       6.714183  1.0     25.0\n",
       "Low income, Senior           6.608321  1.0     25.0"
      ]
     },
     "execution_count": 35,
     "metadata": {},
     "output_type": "execute_result"
    }
   ],
   "source": [
    "# Expenditure by customer profile\n",
    "\n",
    "expend_freq_cus = ords_prods_active_cus.groupby('Customer Profile').agg({'prices': ['mean', 'min', 'max']}).sort_values(by = ('prices', 'mean'), ascending = False)\n",
    "expend_freq_cus"
   ]
  },
  {
   "cell_type": "markdown",
   "id": "57b3d19a-172d-44b9-a0b2-5c43d7e1ed6d",
   "metadata": {},
   "source": [
    "### Question 8 - Customer analysis by regions and departments"
   ]
  },
  {
   "cell_type": "markdown",
   "id": "8c254291-337e-4969-85c4-e0522663b239",
   "metadata": {},
   "source": [
    "#### South "
   ]
  },
  {
   "cell_type": "code",
   "execution_count": 37,
   "id": "8655cc7b-9e1d-4881-b424-db6b8c5cc449",
   "metadata": {},
   "outputs": [],
   "source": [
    "# Create subset for South\n",
    "\n",
    "south_customer = ords_prods_active_cus[ords_prods_active_cus['Region'] == 'South' ]"
   ]
  },
  {
   "cell_type": "code",
   "execution_count": 38,
   "id": "2ce6cd73-6c88-49ba-9f27-dbabb6cdc43c",
   "metadata": {},
   "outputs": [
    {
     "data": {
      "text/plain": [
       "fam_status\n",
       "married                             1870852\n",
       "single                               436301\n",
       "divorced/widowed                     227618\n",
       "living with parents and siblings     130484\n",
       "Name: count, dtype: int64"
      ]
     },
     "execution_count": 38,
     "metadata": {},
     "output_type": "execute_result"
    }
   ],
   "source": [
    "# Family status\n",
    "\n",
    "south_customer['fam_status'].value_counts()"
   ]
  },
  {
   "cell_type": "code",
   "execution_count": 44,
   "id": "3f4f8a50-3ee9-4c9f-b7b5-edf7c79c246d",
   "metadata": {},
   "outputs": [
    {
     "data": {
      "text/plain": [
       "product_name\n",
       "Banana                    37986\n",
       "Bag of Organic Bananas    25318\n",
       "Organic Strawberries      21073\n",
       "Organic Baby Spinach      19099\n",
       "Organic Avocado           17235\n",
       "Organic Hass Avocado      14580\n",
       "Strawberries              11226\n",
       "Large Lemon               11134\n",
       "Limes                     11132\n",
       "Organic Whole Milk         9263\n",
       "Name: count, dtype: int64"
      ]
     },
     "execution_count": 44,
     "metadata": {},
     "output_type": "execute_result"
    }
   ],
   "source": [
    "# Top 10 products\n",
    "\n",
    "south_customer['product_name'].value_counts(dropna =  False ).sort_values(ascending = False).head(10)"
   ]
  },
  {
   "cell_type": "code",
   "execution_count": 45,
   "id": "32b5df25-0c2d-4455-bdfd-1d307f86bb05",
   "metadata": {},
   "outputs": [
    {
     "data": {
      "text/plain": [
       "department_id\n",
       "4     751330\n",
       "16    426567\n",
       "19    232379\n",
       "7     218352\n",
       "1     202237\n",
       "Name: count, dtype: int64"
      ]
     },
     "execution_count": 45,
     "metadata": {},
     "output_type": "execute_result"
    }
   ],
   "source": [
    "# Most popular departments\n",
    "\n",
    "south_customer['department_id'].value_counts(dropna= False).sort_values(ascending = False).head(5)"
   ]
  },
  {
   "cell_type": "markdown",
   "id": "73f04522-0279-48b7-af57-d1c6cae22390",
   "metadata": {},
   "source": [
    "#### West"
   ]
  },
  {
   "cell_type": "code",
   "execution_count": 41,
   "id": "3ef54949-5d5b-49de-bd33-d523be9bd147",
   "metadata": {},
   "outputs": [],
   "source": [
    "# Create subset for West\n",
    "\n",
    "west_customer = ords_prods_active_cus[ords_prods_active_cus['Region'] == 'West']"
   ]
  },
  {
   "cell_type": "code",
   "execution_count": 42,
   "id": "9af59a0d-760a-4dcf-bc9c-d9e26f3eaf93",
   "metadata": {},
   "outputs": [
    {
     "data": {
      "text/plain": [
       "fam_status\n",
       "married                             1432501\n",
       "single                               334820\n",
       "divorced/widowed                     173454\n",
       "living with parents and siblings      95212\n",
       "Name: count, dtype: int64"
      ]
     },
     "execution_count": 42,
     "metadata": {},
     "output_type": "execute_result"
    }
   ],
   "source": [
    "# Family status\n",
    "\n",
    "west_customer['fam_status'].value_counts()"
   ]
  },
  {
   "cell_type": "code",
   "execution_count": 43,
   "id": "415e22c7-a7e1-4501-9faf-8638162d72ae",
   "metadata": {},
   "outputs": [
    {
     "data": {
      "text/plain": [
       "product_name\n",
       "Banana                    29212\n",
       "Bag of Organic Bananas    19259\n",
       "Organic Strawberries      15941\n",
       "Organic Baby Spinach      14762\n",
       "Organic Avocado           13125\n",
       "Organic Hass Avocado      11300\n",
       "Strawberries               8847\n",
       "Large Lemon                8583\n",
       "Limes                      8552\n",
       "Organic Whole Milk         7177\n",
       "Name: count, dtype: int64"
      ]
     },
     "execution_count": 43,
     "metadata": {},
     "output_type": "execute_result"
    }
   ],
   "source": [
    "# Top 10 goods by order\n",
    "\n",
    "west_customer['product_name'].value_counts(dropna =  False ).sort_values(ascending = False).head(10)"
   ]
  },
  {
   "cell_type": "code",
   "execution_count": 46,
   "id": "1b028cc9-f1ee-4bd5-b50b-3be0cd77883d",
   "metadata": {},
   "outputs": [
    {
     "data": {
      "text/plain": [
       "department_id\n",
       "4     572305\n",
       "16    327628\n",
       "19    178541\n",
       "7     164450\n",
       "1     154503\n",
       "Name: count, dtype: int64"
      ]
     },
     "execution_count": 46,
     "metadata": {},
     "output_type": "execute_result"
    }
   ],
   "source": [
    "# Most popular departments\n",
    "\n",
    "west_customer['department_id'].value_counts(dropna= False).sort_values(ascending = False).head(5)"
   ]
  },
  {
   "cell_type": "markdown",
   "id": "a082adfc-b3d0-4040-838c-be3b548da26d",
   "metadata": {},
   "source": [
    "### Midwest"
   ]
  },
  {
   "cell_type": "code",
   "execution_count": 47,
   "id": "7502b7ea-7851-4b33-946d-9ece6ba2d5c5",
   "metadata": {},
   "outputs": [],
   "source": [
    "# Create subset for Midest\n",
    "\n",
    "midwest_customer = ords_prods_active_cus[ords_prods_active_cus['Region'] == 'Midwest']"
   ]
  },
  {
   "cell_type": "code",
   "execution_count": 48,
   "id": "f627a3a2-1d8b-4338-8d4d-0696245ca6da",
   "metadata": {},
   "outputs": [
    {
     "data": {
      "text/plain": [
       "fam_status\n",
       "married                             1327983\n",
       "single                               307328\n",
       "divorced/widowed                     161371\n",
       "living with parents and siblings      90618\n",
       "Name: count, dtype: int64"
      ]
     },
     "execution_count": 48,
     "metadata": {},
     "output_type": "execute_result"
    }
   ],
   "source": [
    "# Family status\n",
    "\n",
    "midwest_customer['fam_status'].value_counts()"
   ]
  },
  {
   "cell_type": "code",
   "execution_count": 49,
   "id": "d7957962-2d17-4c44-8554-81539d91ecad",
   "metadata": {},
   "outputs": [
    {
     "data": {
      "text/plain": [
       "product_name\n",
       "Banana                    26752\n",
       "Bag of Organic Bananas    17901\n",
       "Organic Strawberries      14629\n",
       "Organic Baby Spinach      13505\n",
       "Organic Avocado           12447\n",
       "Organic Hass Avocado      10264\n",
       "Strawberries               8215\n",
       "Limes                      8109\n",
       "Large Lemon                8106\n",
       "Organic Whole Milk         6720\n",
       "Name: count, dtype: int64"
      ]
     },
     "execution_count": 49,
     "metadata": {},
     "output_type": "execute_result"
    }
   ],
   "source": [
    "# Top 10 goods by order\n",
    "\n",
    "midwest_customer['product_name'].value_counts(dropna =  False ).sort_values(ascending = False).head(10)"
   ]
  },
  {
   "cell_type": "code",
   "execution_count": 50,
   "id": "b378219c-291a-49a0-a498-ff5142a3671d",
   "metadata": {},
   "outputs": [
    {
     "data": {
      "text/plain": [
       "department_id\n",
       "4     532086\n",
       "16    302797\n",
       "19    164567\n",
       "7     153337\n",
       "1     143100\n",
       "Name: count, dtype: int64"
      ]
     },
     "execution_count": 50,
     "metadata": {},
     "output_type": "execute_result"
    }
   ],
   "source": [
    "# Most popular departments\n",
    "\n",
    "midwest_customer['department_id'].value_counts(dropna= False).sort_values(ascending = False).head(5)"
   ]
  },
  {
   "cell_type": "markdown",
   "id": "7da6ae4a-4ec5-4567-b8de-e93d496af14b",
   "metadata": {},
   "source": [
    "#### Northeast"
   ]
  },
  {
   "cell_type": "code",
   "execution_count": 51,
   "id": "6d976d75-3bdf-419b-99af-681130b0c92d",
   "metadata": {},
   "outputs": [],
   "source": [
    "# Create subset for Midest\n",
    "\n",
    "northeast_customer = ords_prods_active_cus[ords_prods_active_cus['Region'] == 'Northeast']"
   ]
  },
  {
   "cell_type": "code",
   "execution_count": 52,
   "id": "a13e0683-5a1e-4d8d-955a-0389febd34a9",
   "metadata": {},
   "outputs": [
    {
     "data": {
      "text/plain": [
       "fam_status\n",
       "married                             992108\n",
       "single                              232694\n",
       "divorced/widowed                    120824\n",
       "living with parents and siblings     63253\n",
       "Name: count, dtype: int64"
      ]
     },
     "execution_count": 52,
     "metadata": {},
     "output_type": "execute_result"
    }
   ],
   "source": [
    "# Family status\n",
    "\n",
    "northeast_customer['fam_status'].value_counts()"
   ]
  },
  {
   "cell_type": "code",
   "execution_count": 53,
   "id": "286444a6-eda9-42f5-aaa8-283993311ce7",
   "metadata": {},
   "outputs": [
    {
     "data": {
      "text/plain": [
       "product_name\n",
       "Banana                    19947\n",
       "Bag of Organic Bananas    13340\n",
       "Organic Strawberries      11085\n",
       "Organic Baby Spinach       9806\n",
       "Organic Avocado            9281\n",
       "Organic Hass Avocado       7782\n",
       "Large Lemon                6179\n",
       "Limes                      5873\n",
       "Strawberries               5846\n",
       "Organic Whole Milk         5112\n",
       "Name: count, dtype: int64"
      ]
     },
     "execution_count": 53,
     "metadata": {},
     "output_type": "execute_result"
    }
   ],
   "source": [
    "# Top 10 goods by order\n",
    "\n",
    "northeast_customer['product_name'].value_counts(dropna =  False ).sort_values(ascending = False).head(10)"
   ]
  },
  {
   "cell_type": "code",
   "execution_count": 54,
   "id": "3844814b-5bc2-41c9-b592-9ff49fc3a8d3",
   "metadata": {},
   "outputs": [
    {
     "data": {
      "text/plain": [
       "department_id\n",
       "4     396479\n",
       "16    224964\n",
       "19    124942\n",
       "7     115554\n",
       "1     107748\n",
       "Name: count, dtype: int64"
      ]
     },
     "execution_count": 54,
     "metadata": {},
     "output_type": "execute_result"
    }
   ],
   "source": [
    "# Most popular departments\n",
    "\n",
    "northeast_customer['department_id'].value_counts(dropna= False).sort_values(ascending = False).head(5)"
   ]
  },
  {
   "cell_type": "code",
   "execution_count": 62,
   "id": "294e235b-f2da-48ea-9752-aa77559801fc",
   "metadata": {},
   "outputs": [],
   "source": [
    "cus_by_region = pd.crosstab(ords_prods_active_cus['Customer Profile'], ords_prods_active_cus['Region'], dropna = False)"
   ]
  },
  {
   "cell_type": "code",
   "execution_count": 72,
   "id": "6643340e-d033-48f1-a0b8-8a77970e1959",
   "metadata": {},
   "outputs": [
    {
     "data": {
      "text/plain": [
       "<matplotlib.legend.Legend at 0x1144d7b50>"
      ]
     },
     "execution_count": 72,
     "metadata": {},
     "output_type": "execute_result"
    },
    {
     "data": {
      "image/png": "[encoded data removed]",
      "text/plain": [
       "<Figure size 640x480 with 1 Axes>"
      ]
     },
     "metadata": {},
     "output_type": "display_data"
    }
   ],
   "source": [
    "cus_by_region.sort_values(by='Customer Profile').plot(kind='barh', stacked=True)\n",
    "plt.title('Customer Profiles by Region')\n",
    "plt.xlabel('')\n",
    "plt.ylabel('User count')\n",
    "plt.legend(title=None)"
   ]
  },
  {
   "cell_type": "code",
   "execution_count": 75,
   "id": "89dcfac6-b838-4daa-ab6f-a6a0962b0004",
   "metadata": {},
   "outputs": [],
   "source": [
    "ords_prods_active_cus.to_pickle(os.path.join(path, '02. Data', 'Prepared Data', 'ords_prods_cus_2.pkl'))"
   ]
  }
 ],
 "metadata": {
  "kernelspec": {
   "display_name": "Python 3 (ipykernel)",
   "language": "python",
   "name": "python3"
  },
  "language_info": {
   "codemirror_mode": {
    "name": "ipython",
    "version": 3
   },
   "file_extension": ".py",
   "mimetype": "text/x-python",
   "name": "python",
   "nbconvert_exporter": "python",
   "pygments_lexer": "ipython3",
   "version": "3.11.7"
  }
 },
 "nbformat": 4,
 "nbformat_minor": 5
}
